{
  "nbformat": 4,
  "nbformat_minor": 0,
  "metadata": {
    "colab": {
      "name": "dokimhgiabaseis2.ipynb",
      "provenance": [],
      "toc_visible": true,
      "authorship_tag": "ABX9TyPJ7Wz46WpvWxkwjrZoz9Ew",
      "include_colab_link": true
    },
    "kernelspec": {
      "name": "python3",
      "display_name": "Python 3"
    },
    "language_info": {
      "name": "python"
    }
  },
  "cells": [
    {
      "cell_type": "markdown",
      "metadata": {
        "id": "view-in-github",
        "colab_type": "text"
      },
      "source": [
        "<a href=\"https://colab.research.google.com/github/JSaillok/ArxesGlwsswn/blob/main/dokimhgiabaseis2.ipynb\" target=\"_parent\"><img src=\"https://colab.research.google.com/assets/colab-badge.svg\" alt=\"Open In Colab\"/></a>"
      ]
    },
    {
      "cell_type": "markdown",
      "source": [
        "# Cassandra"
      ],
      "metadata": {
        "id": "HKe3xYIGDcvP"
      }
    },
    {
      "cell_type": "markdown",
      "source": [
        "Σας καλωσορίζω στην εξαμηνιαία εργασία στο μάθημα Συστήματα Διαχείρησης Μεγάλου Όγκου Δεδομένων."
      ],
      "metadata": {
        "id": "uSAzFKu9Ci84"
      }
    },
    {
      "cell_type": "code",
      "execution_count": 3,
      "metadata": {
        "colab": {
          "base_uri": "https://localhost:8080/"
        },
        "id": "ugRUAH6N-N9a",
        "outputId": "222f5303-e3d7-49cc-ac99-8a36fae6caf3"
      },
      "outputs": [
        {
          "output_type": "stream",
          "name": "stdout",
          "text": [
            "hello Everybody\n"
          ]
        }
      ],
      "source": [
        "print (\"hello Everybody\")"
      ]
    },
    {
      "cell_type": "code",
      "source": [
        "%reset"
      ],
      "metadata": {
        "colab": {
          "base_uri": "https://localhost:8080/"
        },
        "id": "BJDIRtOtEJt-",
        "outputId": "d52e2654-f874-4866-db63-dd97e5249546"
      },
      "execution_count": 4,
      "outputs": [
        {
          "name": "stdout",
          "output_type": "stream",
          "text": [
            "Once deleted, variables cannot be recovered. Proceed (y/[n])? y\n"
          ]
        }
      ]
    }
  ]
}